{
 "cells": [
  {
   "cell_type": "code",
   "execution_count": 1,
   "id": "6611e6bc",
   "metadata": {
    "execution": {
     "iopub.execute_input": "2022-05-29T14:57:11.803660Z",
     "iopub.status.busy": "2022-05-29T14:57:11.803284Z",
     "iopub.status.idle": "2022-05-29T14:57:17.493622Z",
     "shell.execute_reply": "2022-05-29T14:57:17.492859Z"
    },
    "papermill": {
     "duration": 5.702064,
     "end_time": "2022-05-29T14:57:17.495943",
     "exception": false,
     "start_time": "2022-05-29T14:57:11.793879",
     "status": "completed"
    },
    "tags": []
   },
   "outputs": [],
   "source": [
    "import matplotlib.pyplot as plt\n",
    "import numpy as np\n",
    "import pandas as pd\n",
    "import seaborn as sns\n",
    "import os\n",
    "\n",
    "# Importing Deep Learning Libraries\n",
    "\n",
    "from keras.preprocessing.image import load_img, img_to_array\n",
    "from keras.preprocessing.image import ImageDataGenerator\n",
    "from keras.layers import Dense,Input,Dropout,GlobalAveragePooling2D,Flatten,Conv2D,BatchNormalization,Activation,MaxPooling2D\n",
    "from keras.models import Model,Sequential\n",
    "from tensorflow.keras.optimizers import Adam,SGD,RMSprop"
   ]
  },
  {
   "cell_type": "code",
   "execution_count": 2,
   "id": "5de76d61",
   "metadata": {
    "execution": {
     "iopub.execute_input": "2022-05-29T14:57:17.512118Z",
     "iopub.status.busy": "2022-05-29T14:57:17.511590Z",
     "iopub.status.idle": "2022-05-29T14:57:17.515065Z",
     "shell.execute_reply": "2022-05-29T14:57:17.514333Z"
    },
    "papermill": {
     "duration": 0.013369,
     "end_time": "2022-05-29T14:57:17.516796",
     "exception": false,
     "start_time": "2022-05-29T14:57:17.503427",
     "status": "completed"
    },
    "tags": []
   },
   "outputs": [],
   "source": [
    "picture_size = 48\n",
    "folder_path = \"../input/face-expression-recognition-dataset/images/\""
   ]
  },
  {
   "cell_type": "code",
   "execution_count": 3,
   "id": "9a50d885",
   "metadata": {
    "execution": {
     "iopub.execute_input": "2022-05-29T14:57:17.531573Z",
     "iopub.status.busy": "2022-05-29T14:57:17.530977Z",
     "iopub.status.idle": "2022-05-29T14:57:37.326271Z",
     "shell.execute_reply": "2022-05-29T14:57:37.325555Z"
    },
    "papermill": {
     "duration": 19.805109,
     "end_time": "2022-05-29T14:57:37.328655",
     "exception": false,
     "start_time": "2022-05-29T14:57:17.523546",
     "status": "completed"
    },
    "tags": []
   },
   "outputs": [
    {
     "name": "stdout",
     "output_type": "stream",
     "text": [
      "Found 28821 images belonging to 7 classes.\n",
      "Found 7066 images belonging to 7 classes.\n"
     ]
    }
   ],
   "source": [
    "batch_size  = 128\n",
    "\n",
    "datagen_train  = ImageDataGenerator()\n",
    "datagen_val = ImageDataGenerator()\n",
    "\n",
    "train_set = datagen_train.flow_from_directory(folder_path+\"train\",\n",
    "                                              target_size = (picture_size,picture_size),\n",
    "                                              color_mode = \"grayscale\",\n",
    "                                              batch_size=batch_size,\n",
    "                                              class_mode='categorical',\n",
    "                                              shuffle=True)\n",
    "\n",
    "\n",
    "test_set = datagen_val.flow_from_directory(folder_path+\"validation\",\n",
    "                                              target_size = (picture_size,picture_size),\n",
    "                                              color_mode = \"grayscale\",\n",
    "                                              batch_size=batch_size,\n",
    "                                              class_mode='categorical',\n",
    "                                              shuffle=False)"
   ]
  },
  {
   "cell_type": "code",
   "execution_count": 4,
   "id": "44837884",
   "metadata": {
    "execution": {
     "iopub.execute_input": "2022-05-29T14:57:37.346777Z",
     "iopub.status.busy": "2022-05-29T14:57:37.346356Z",
     "iopub.status.idle": "2022-05-29T14:57:40.149057Z",
     "shell.execute_reply": "2022-05-29T14:57:40.148284Z"
    },
    "papermill": {
     "duration": 2.813353,
     "end_time": "2022-05-29T14:57:40.151037",
     "exception": false,
     "start_time": "2022-05-29T14:57:37.337684",
     "status": "completed"
    },
    "tags": []
   },
   "outputs": [
    {
     "name": "stderr",
     "output_type": "stream",
     "text": [
      "2022-05-29 14:57:37.437382: I tensorflow/stream_executor/cuda/cuda_gpu_executor.cc:937] successful NUMA node read from SysFS had negative value (-1), but there must be at least one NUMA node, so returning NUMA node zero\n",
      "2022-05-29 14:57:37.540506: I tensorflow/stream_executor/cuda/cuda_gpu_executor.cc:937] successful NUMA node read from SysFS had negative value (-1), but there must be at least one NUMA node, so returning NUMA node zero\n",
      "2022-05-29 14:57:37.541212: I tensorflow/stream_executor/cuda/cuda_gpu_executor.cc:937] successful NUMA node read from SysFS had negative value (-1), but there must be at least one NUMA node, so returning NUMA node zero\n",
      "2022-05-29 14:57:37.543407: I tensorflow/core/platform/cpu_feature_guard.cc:142] This TensorFlow binary is optimized with oneAPI Deep Neural Network Library (oneDNN) to use the following CPU instructions in performance-critical operations:  AVX2 AVX512F FMA\n",
      "To enable them in other operations, rebuild TensorFlow with the appropriate compiler flags.\n",
      "2022-05-29 14:57:37.543715: I tensorflow/stream_executor/cuda/cuda_gpu_executor.cc:937] successful NUMA node read from SysFS had negative value (-1), but there must be at least one NUMA node, so returning NUMA node zero\n",
      "2022-05-29 14:57:37.544625: I tensorflow/stream_executor/cuda/cuda_gpu_executor.cc:937] successful NUMA node read from SysFS had negative value (-1), but there must be at least one NUMA node, so returning NUMA node zero\n",
      "2022-05-29 14:57:37.545481: I tensorflow/stream_executor/cuda/cuda_gpu_executor.cc:937] successful NUMA node read from SysFS had negative value (-1), but there must be at least one NUMA node, so returning NUMA node zero\n",
      "2022-05-29 14:57:39.634909: I tensorflow/stream_executor/cuda/cuda_gpu_executor.cc:937] successful NUMA node read from SysFS had negative value (-1), but there must be at least one NUMA node, so returning NUMA node zero\n",
      "2022-05-29 14:57:39.635815: I tensorflow/stream_executor/cuda/cuda_gpu_executor.cc:937] successful NUMA node read from SysFS had negative value (-1), but there must be at least one NUMA node, so returning NUMA node zero\n",
      "2022-05-29 14:57:39.636528: I tensorflow/stream_executor/cuda/cuda_gpu_executor.cc:937] successful NUMA node read from SysFS had negative value (-1), but there must be at least one NUMA node, so returning NUMA node zero\n",
      "2022-05-29 14:57:39.637859: I tensorflow/core/common_runtime/gpu/gpu_device.cc:1510] Created device /job:localhost/replica:0/task:0/device:GPU:0 with 15403 MB memory:  -> device: 0, name: Tesla P100-PCIE-16GB, pci bus id: 0000:00:04.0, compute capability: 6.0\n"
     ]
    }
   ],
   "source": [
    "no_of_classes = 7\n",
    "\n",
    "model = Sequential()\n",
    "\n",
    "#1st CNN layer\n",
    "model.add(Conv2D(64,(3,3),padding = 'same',input_shape = (48,48,1)))\n",
    "model.add(BatchNormalization())\n",
    "model.add(Activation('relu'))\n",
    "model.add(MaxPooling2D(pool_size = (2,2)))\n",
    "model.add(Dropout(0.25))\n",
    "\n",
    "#2nd CNN layer\n",
    "model.add(Conv2D(128,(5,5),padding = 'same'))\n",
    "model.add(BatchNormalization())\n",
    "model.add(Activation('relu'))\n",
    "model.add(MaxPooling2D(pool_size = (2,2)))\n",
    "model.add(Dropout (0.25))\n",
    "\n",
    "#3rd CNN layer\n",
    "model.add(Conv2D(512,(3,3),padding = 'same'))\n",
    "model.add(BatchNormalization())\n",
    "model.add(Activation('relu'))\n",
    "model.add(MaxPooling2D(pool_size = (2,2)))\n",
    "model.add(Dropout (0.25))\n",
    "\n",
    "#4th CNN layer\n",
    "model.add(Conv2D(512,(3,3), padding='same'))\n",
    "model.add(BatchNormalization())\n",
    "model.add(Activation('relu'))\n",
    "model.add(MaxPooling2D(pool_size=(2, 2)))\n",
    "model.add(Dropout(0.25))\n",
    "\n",
    "model.add(Flatten())\n",
    "\n",
    "#Fully connected 1st layer\n",
    "model.add(Dense(256))\n",
    "model.add(BatchNormalization())\n",
    "model.add(Activation('relu'))\n",
    "model.add(Dropout(0.25))\n",
    "\n",
    "\n",
    "# Fully connected layer 2nd layer\n",
    "model.add(Dense(512))\n",
    "model.add(BatchNormalization())\n",
    "model.add(Activation('relu'))\n",
    "model.add(Dropout(0.25))\n",
    "\n",
    "model.add(Dense(no_of_classes, activation='softmax'))\n",
    "\n",
    "\n",
    "\n",
    "opt = Adam(learning_rate = 0.0001)\n",
    "model.compile(optimizer=opt,loss='categorical_crossentropy', metrics=['accuracy'])"
   ]
  },
  {
   "cell_type": "code",
   "execution_count": 5,
   "id": "c59bb5cc",
   "metadata": {
    "execution": {
     "iopub.execute_input": "2022-05-29T14:57:40.172412Z",
     "iopub.status.busy": "2022-05-29T14:57:40.171673Z",
     "iopub.status.idle": "2022-05-29T14:57:40.185175Z",
     "shell.execute_reply": "2022-05-29T14:57:40.184434Z"
    },
    "papermill": {
     "duration": 0.026016,
     "end_time": "2022-05-29T14:57:40.187029",
     "exception": false,
     "start_time": "2022-05-29T14:57:40.161013",
     "status": "completed"
    },
    "tags": []
   },
   "outputs": [],
   "source": [
    "from tensorflow.keras.optimizers import RMSprop,SGD,Adam\n",
    "from keras.callbacks import ModelCheckpoint, EarlyStopping, ReduceLROnPlateau\n",
    "\n",
    "checkpoint = ModelCheckpoint(\"./model.h5\", monitor='val_acc', verbose=1, save_best_only=True, mode='max')\n",
    "\n",
    "early_stopping = EarlyStopping(monitor='val_loss',\n",
    "                          min_delta=0,\n",
    "                          patience=3,\n",
    "                          verbose=1,\n",
    "                          restore_best_weights=True\n",
    "                          )\n",
    "\n",
    "reduce_learningrate = ReduceLROnPlateau(monitor='val_loss',\n",
    "                              factor=0.2,\n",
    "                              patience=3,\n",
    "                              verbose=1,\n",
    "                              min_delta=0.0001)\n",
    "\n",
    "callbacks_list = [early_stopping,checkpoint,reduce_learningrate]\n",
    "\n",
    "epochs = 48\n",
    "\n",
    "model.compile(loss='categorical_crossentropy',\n",
    "              optimizer = Adam(learning_rate=0.001),\n",
    "              metrics=['accuracy'])"
   ]
  },
  {
   "cell_type": "code",
   "execution_count": 6,
   "id": "1529aa37",
   "metadata": {
    "execution": {
     "iopub.execute_input": "2022-05-29T14:57:40.207683Z",
     "iopub.status.busy": "2022-05-29T14:57:40.207239Z",
     "iopub.status.idle": "2022-05-29T15:08:22.141760Z",
     "shell.execute_reply": "2022-05-29T15:08:22.140979Z"
    },
    "papermill": {
     "duration": 641.946736,
     "end_time": "2022-05-29T15:08:22.143534",
     "exception": false,
     "start_time": "2022-05-29T14:57:40.196798",
     "status": "completed"
    },
    "tags": []
   },
   "outputs": [
    {
     "name": "stderr",
     "output_type": "stream",
     "text": [
      "/opt/conda/lib/python3.7/site-packages/keras/engine/training.py:1972: UserWarning: `Model.fit_generator` is deprecated and will be removed in a future version. Please use `Model.fit`, which supports generators.\n",
      "  warnings.warn('`Model.fit_generator` is deprecated and '\n",
      "2022-05-29 14:57:40.983780: I tensorflow/compiler/mlir/mlir_graph_optimization_pass.cc:185] None of the MLIR Optimization Passes are enabled (registered 2)\n"
     ]
    },
    {
     "name": "stdout",
     "output_type": "stream",
     "text": [
      "Epoch 1/48\n"
     ]
    },
    {
     "name": "stderr",
     "output_type": "stream",
     "text": [
      "2022-05-29 14:57:43.548677: I tensorflow/stream_executor/cuda/cuda_dnn.cc:369] Loaded cuDNN version 8005\n"
     ]
    },
    {
     "name": "stdout",
     "output_type": "stream",
     "text": [
      "225/225 [==============================] - 207s 887ms/step - loss: 1.7587 - accuracy: 0.3292 - val_loss: 1.4601 - val_accuracy: 0.4420\n",
      "Epoch 2/48\n",
      "225/225 [==============================] - 32s 140ms/step - loss: 1.4237 - accuracy: 0.4536 - val_loss: 1.3622 - val_accuracy: 0.4795\n",
      "Epoch 3/48\n",
      "225/225 [==============================] - 29s 128ms/step - loss: 1.2754 - accuracy: 0.5106 - val_loss: 1.3350 - val_accuracy: 0.4928\n",
      "Epoch 4/48\n",
      "225/225 [==============================] - 28s 126ms/step - loss: 1.1780 - accuracy: 0.5528 - val_loss: 1.2060 - val_accuracy: 0.5524\n",
      "Epoch 5/48\n",
      "225/225 [==============================] - 30s 133ms/step - loss: 1.1223 - accuracy: 0.5733 - val_loss: 1.2033 - val_accuracy: 0.5483\n",
      "Epoch 6/48\n",
      "225/225 [==============================] - 29s 127ms/step - loss: 1.0756 - accuracy: 0.5888 - val_loss: 1.2564 - val_accuracy: 0.5246\n",
      "Epoch 7/48\n",
      "225/225 [==============================] - 30s 131ms/step - loss: 1.0243 - accuracy: 0.6117 - val_loss: 1.1417 - val_accuracy: 0.5723\n",
      "Epoch 8/48\n",
      "225/225 [==============================] - 30s 135ms/step - loss: 0.9829 - accuracy: 0.6277 - val_loss: 1.2248 - val_accuracy: 0.5474\n",
      "Epoch 9/48\n",
      "225/225 [==============================] - 28s 126ms/step - loss: 0.9432 - accuracy: 0.6430 - val_loss: 1.1574 - val_accuracy: 0.5714\n",
      "Epoch 10/48\n",
      "225/225 [==============================] - 30s 132ms/step - loss: 0.8979 - accuracy: 0.6617 - val_loss: 1.1017 - val_accuracy: 0.6031\n",
      "Epoch 11/48\n",
      "225/225 [==============================] - 29s 128ms/step - loss: 0.8571 - accuracy: 0.6791 - val_loss: 1.1577 - val_accuracy: 0.5938\n",
      "Epoch 12/48\n",
      "225/225 [==============================] - 30s 133ms/step - loss: 0.8157 - accuracy: 0.6928 - val_loss: 1.2136 - val_accuracy: 0.5767\n",
      "Epoch 13/48\n",
      "225/225 [==============================] - 28s 126ms/step - loss: 0.7713 - accuracy: 0.7132 - val_loss: 1.1921 - val_accuracy: 0.5959\n",
      "Restoring model weights from the end of the best epoch.\n",
      "\n",
      "Epoch 00013: ReduceLROnPlateau reducing learning rate to 0.00020000000949949026.\n",
      "Epoch 00013: early stopping\n"
     ]
    }
   ],
   "source": [
    "history = model.fit_generator(generator=train_set,\n",
    "                                steps_per_epoch=train_set.n//train_set.batch_size,\n",
    "                                epochs=epochs,\n",
    "                                validation_data = test_set,\n",
    "                                validation_steps = test_set.n//test_set.batch_size,\n",
    "                                callbacks=callbacks_list\n",
    "                                )"
   ]
  },
  {
   "cell_type": "code",
   "execution_count": 7,
   "id": "cec51123",
   "metadata": {
    "execution": {
     "iopub.execute_input": "2022-05-29T15:08:24.084922Z",
     "iopub.status.busy": "2022-05-29T15:08:24.084660Z",
     "iopub.status.idle": "2022-05-29T15:08:24.155385Z",
     "shell.execute_reply": "2022-05-29T15:08:24.154644Z"
    },
    "papermill": {
     "duration": 1.086729,
     "end_time": "2022-05-29T15:08:24.157257",
     "exception": false,
     "start_time": "2022-05-29T15:08:23.070528",
     "status": "completed"
    },
    "tags": []
   },
   "outputs": [],
   "source": [
    "# saving the model\n",
    "model_json = model.to_json()  \n",
    "with open(\"model.json\", \"w\") as json_file:  \n",
    "    json_file.write(model_json)  \n",
    "model.save_weights(\"model.h5\") "
   ]
  }
 ],
 "metadata": {
  "kernelspec": {
   "display_name": "Python 3",
   "language": "python",
   "name": "python3"
  },
  "language_info": {
   "codemirror_mode": {
    "name": "ipython",
    "version": 3
   },
   "file_extension": ".py",
   "mimetype": "text/x-python",
   "name": "python",
   "nbconvert_exporter": "python",
   "pygments_lexer": "ipython3",
   "version": "3.7.12"
  },
  "papermill": {
   "default_parameters": {},
   "duration": 683.948488,
   "end_time": "2022-05-29T15:08:27.863386",
   "environment_variables": {},
   "exception": null,
   "input_path": "__notebook__.ipynb",
   "output_path": "__notebook__.ipynb",
   "parameters": {},
   "start_time": "2022-05-29T14:57:03.914898",
   "version": "2.3.4"
  }
 },
 "nbformat": 4,
 "nbformat_minor": 5
}
